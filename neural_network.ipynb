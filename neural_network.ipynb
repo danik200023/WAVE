{
 "cells": [
  {
   "cell_type": "code",
   "execution_count": 3,
   "metadata": {
    "pycharm": {
     "name": "#%%\n"
    }
   },
   "outputs": [],
   "source": [
    "import numpy as np\n",
    "from sklearn.model_selection import train_test_split\n",
    "import torch\n",
    "import torch.nn as nn\n",
    "import torch.optim as optim\n",
    "import torch.utils.data as data_utils\n",
    "from torch.autograd import Variable\n",
    "import torch.nn.functional as F"
   ]
  },
  {
   "cell_type": "code",
   "execution_count": 4,
   "outputs": [],
   "source": [
    "class Net(nn.Module):\n",
    "    def __init__(self):\n",
    "        super(Net, self).__init__()\n",
    "        self.fc1 = nn.Linear(49 * 25, 400)\n",
    "        self.fc2 = nn.Linear(400, 400)\n",
    "        self.fc3 = nn.Linear(400, 55)\n",
    "\n",
    "    def forward(self, x):\n",
    "        \"\"\"x = F.relu(self.fc1(x))\n",
    "        x = F.relu(self.fc2(x))\n",
    "        x = self.fc3(x)\"\"\"\n",
    "        x = F.relu(self.fc1(x))\n",
    "        x = F.relu(self.fc2(x))\n",
    "        x = self.fc3(x)\n",
    "        return F.log_softmax(x)"
   ],
   "metadata": {
    "collapsed": false,
    "pycharm": {
     "name": "#%%\n"
    }
   }
  },
  {
   "cell_type": "code",
   "execution_count": 5,
   "outputs": [],
   "source": [
    "class_names = ['A', 'A0', 'B', 'B0', 'D', 'D0', 'DZ', 'DZ0', 'DZH', 'DZH0', 'E0', 'F', 'F0', 'G', 'G0', 'GH', 'I', 'I0',\n",
    "               'J0', 'K', 'K0', 'KH', 'KH0', 'L', 'L0', 'M', 'M0', 'N', 'N0', 'O', 'O0', 'P', 'P0', 'R', 'R0', 'S',\n",
    "               'S0', 'SH', 'SH0', 'T', 'T0', 'TS', 'TS0', 'TSH', 'TSH0', 'U', 'U0', 'V', 'V0', 'Y', 'Y0', 'Z', 'Z0',\n",
    "               'ZH', 'ZH0']\n",
    "phonemes_label = np.load(\"phonemes_label.npy\")\n",
    "phonemes_data = np.load(\"phonemes_data.npy\")\n",
    "phonemes_data = np.nan_to_num(phonemes_data)\n",
    "X_train, X_test, y_train, y_test = train_test_split(phonemes_data, phonemes_label, test_size=0.25, shuffle=True)\n",
    "X_train_torch = torch.from_numpy(X_train).float()\n",
    "X_test_torch = torch.from_numpy(X_test).float()\n",
    "y_train_torch = torch.from_numpy(y_train).long()\n",
    "y_test_torch = torch.from_numpy(y_test).long()\n",
    "train = data_utils.TensorDataset(X_train_torch, y_train_torch)\n",
    "test = data_utils.TensorDataset(X_test_torch, y_test_torch)\n",
    "train_loader = data_utils.DataLoader(train, batch_size=400)\n",
    "test_loader = data_utils.DataLoader(test, batch_size=400)"
   ],
   "metadata": {
    "collapsed": false,
    "pycharm": {
     "name": "#%%\n"
    }
   }
  },
  {
   "cell_type": "code",
   "execution_count": 6,
   "outputs": [],
   "source": [
    "batch_size = 200\n",
    "learning_rate = 0.01\n",
    "epochs = 10\n",
    "log_interval = 10\n",
    "net = Net()\n",
    "optimizer = optim.SGD(net.parameters(), lr=learning_rate, momentum=0.9)\n",
    "criterion = nn.NLLLoss()"
   ],
   "metadata": {
    "collapsed": false,
    "pycharm": {
     "name": "#%%\n"
    }
   }
  },
  {
   "cell_type": "code",
   "execution_count": 7,
   "outputs": [
    {
     "name": "stderr",
     "output_type": "stream",
     "text": [
      "<ipython-input-4-447865afa194>:15: UserWarning: Implicit dimension choice for log_softmax has been deprecated. Change the call to include dim=X as an argument.\n",
      "  return F.log_softmax(x)\n"
     ]
    },
    {
     "name": "stdout",
     "output_type": "stream",
     "text": [
      "Train Epoch: 0 [0/36963 (0%)]tLoss: 4.009336\n",
      "Train Epoch: 0 [4000/36963 (11%)]tLoss: 3.926167\n",
      "Train Epoch: 0 [8000/36963 (22%)]tLoss: 3.655857\n",
      "Train Epoch: 0 [12000/36963 (32%)]tLoss: 3.476691\n",
      "Train Epoch: 0 [16000/36963 (43%)]tLoss: 3.433623\n",
      "Train Epoch: 0 [20000/36963 (54%)]tLoss: 3.424016\n",
      "Train Epoch: 0 [24000/36963 (65%)]tLoss: 3.214580\n",
      "Train Epoch: 0 [28000/36963 (75%)]tLoss: 3.077960\n",
      "Train Epoch: 0 [32000/36963 (86%)]tLoss: 3.140275\n",
      "Train Epoch: 0 [36000/36963 (97%)]tLoss: 2.899801\n",
      "Train Epoch: 1 [0/36963 (0%)]tLoss: 2.873816\n",
      "Train Epoch: 1 [4000/36963 (11%)]tLoss: 2.848972\n",
      "Train Epoch: 1 [8000/36963 (22%)]tLoss: 2.743831\n",
      "Train Epoch: 1 [12000/36963 (32%)]tLoss: 2.793772\n",
      "Train Epoch: 1 [16000/36963 (43%)]tLoss: 2.741807\n",
      "Train Epoch: 1 [20000/36963 (54%)]tLoss: 2.795882\n",
      "Train Epoch: 1 [24000/36963 (65%)]tLoss: 2.665433\n",
      "Train Epoch: 1 [28000/36963 (75%)]tLoss: 2.603358\n",
      "Train Epoch: 1 [32000/36963 (86%)]tLoss: 2.730395\n",
      "Train Epoch: 1 [36000/36963 (97%)]tLoss: 2.527715\n",
      "Train Epoch: 2 [0/36963 (0%)]tLoss: 2.567844\n",
      "Train Epoch: 2 [4000/36963 (11%)]tLoss: 2.528660\n",
      "Train Epoch: 2 [8000/36963 (22%)]tLoss: 2.432284\n",
      "Train Epoch: 2 [12000/36963 (32%)]tLoss: 2.543287\n",
      "Train Epoch: 2 [16000/36963 (43%)]tLoss: 2.517247\n",
      "Train Epoch: 2 [20000/36963 (54%)]tLoss: 2.582393\n",
      "Train Epoch: 2 [24000/36963 (65%)]tLoss: 2.470693\n",
      "Train Epoch: 2 [28000/36963 (75%)]tLoss: 2.420717\n",
      "Train Epoch: 2 [32000/36963 (86%)]tLoss: 2.581773\n",
      "Train Epoch: 2 [36000/36963 (97%)]tLoss: 2.377096\n",
      "Train Epoch: 3 [0/36963 (0%)]tLoss: 2.445068\n",
      "Train Epoch: 3 [4000/36963 (11%)]tLoss: 2.397521\n",
      "Train Epoch: 3 [8000/36963 (22%)]tLoss: 2.294213\n",
      "Train Epoch: 3 [12000/36963 (32%)]tLoss: 2.429704\n",
      "Train Epoch: 3 [16000/36963 (43%)]tLoss: 2.405405\n",
      "Train Epoch: 3 [20000/36963 (54%)]tLoss: 2.471233\n",
      "Train Epoch: 3 [24000/36963 (65%)]tLoss: 2.376019\n",
      "Train Epoch: 3 [28000/36963 (75%)]tLoss: 2.333483\n",
      "Train Epoch: 3 [32000/36963 (86%)]tLoss: 2.502487\n",
      "Train Epoch: 3 [36000/36963 (97%)]tLoss: 2.300753\n",
      "Train Epoch: 4 [0/36963 (0%)]tLoss: 2.381940\n",
      "Train Epoch: 4 [4000/36963 (11%)]tLoss: 2.322490\n",
      "Train Epoch: 4 [8000/36963 (22%)]tLoss: 2.220470\n",
      "Train Epoch: 4 [12000/36963 (32%)]tLoss: 2.359918\n",
      "Train Epoch: 4 [16000/36963 (43%)]tLoss: 2.335491\n",
      "Train Epoch: 4 [20000/36963 (54%)]tLoss: 2.402837\n",
      "Train Epoch: 4 [24000/36963 (65%)]tLoss: 2.320371\n",
      "Train Epoch: 4 [28000/36963 (75%)]tLoss: 2.264354\n",
      "Train Epoch: 4 [32000/36963 (86%)]tLoss: 2.442935\n",
      "Train Epoch: 4 [36000/36963 (97%)]tLoss: 2.241989\n",
      "Train Epoch: 5 [0/36963 (0%)]tLoss: 2.334776\n",
      "Train Epoch: 5 [4000/36963 (11%)]tLoss: 2.267026\n",
      "Train Epoch: 5 [8000/36963 (22%)]tLoss: 2.173852\n",
      "Train Epoch: 5 [12000/36963 (32%)]tLoss: 2.309347\n",
      "Train Epoch: 5 [16000/36963 (43%)]tLoss: 2.285386\n",
      "Train Epoch: 5 [20000/36963 (54%)]tLoss: 2.349896\n",
      "Train Epoch: 5 [24000/36963 (65%)]tLoss: 2.281937\n",
      "Train Epoch: 5 [28000/36963 (75%)]tLoss: 2.208434\n",
      "Train Epoch: 5 [32000/36963 (86%)]tLoss: 2.397418\n",
      "Train Epoch: 5 [36000/36963 (97%)]tLoss: 2.195039\n",
      "Train Epoch: 6 [0/36963 (0%)]tLoss: 2.296155\n",
      "Train Epoch: 6 [4000/36963 (11%)]tLoss: 2.223209\n",
      "Train Epoch: 6 [8000/36963 (22%)]tLoss: 2.141465\n",
      "Train Epoch: 6 [12000/36963 (32%)]tLoss: 2.269475\n",
      "Train Epoch: 6 [16000/36963 (43%)]tLoss: 2.246180\n",
      "Train Epoch: 6 [20000/36963 (54%)]tLoss: 2.306093\n",
      "Train Epoch: 6 [24000/36963 (65%)]tLoss: 2.253236\n",
      "Train Epoch: 6 [28000/36963 (75%)]tLoss: 2.164318\n",
      "Train Epoch: 6 [32000/36963 (86%)]tLoss: 2.366078\n",
      "Train Epoch: 6 [36000/36963 (97%)]tLoss: 2.158661\n",
      "Train Epoch: 7 [0/36963 (0%)]tLoss: 2.262374\n",
      "Train Epoch: 7 [4000/36963 (11%)]tLoss: 2.184472\n",
      "Train Epoch: 7 [8000/36963 (22%)]tLoss: 2.115658\n",
      "Train Epoch: 7 [12000/36963 (32%)]tLoss: 2.237434\n",
      "Train Epoch: 7 [16000/36963 (43%)]tLoss: 2.214489\n",
      "Train Epoch: 7 [20000/36963 (54%)]tLoss: 2.266890\n",
      "Train Epoch: 7 [24000/36963 (65%)]tLoss: 2.224615\n",
      "Train Epoch: 7 [28000/36963 (75%)]tLoss: 2.128320\n",
      "Train Epoch: 7 [32000/36963 (86%)]tLoss: 2.336869\n",
      "Train Epoch: 7 [36000/36963 (97%)]tLoss: 2.126334\n",
      "Train Epoch: 8 [0/36963 (0%)]tLoss: 2.231633\n",
      "Train Epoch: 8 [4000/36963 (11%)]tLoss: 2.147451\n",
      "Train Epoch: 8 [8000/36963 (22%)]tLoss: 2.091751\n",
      "Train Epoch: 8 [12000/36963 (32%)]tLoss: 2.207277\n",
      "Train Epoch: 8 [16000/36963 (43%)]tLoss: 2.187170\n",
      "Train Epoch: 8 [20000/36963 (54%)]tLoss: 2.234106\n",
      "Train Epoch: 8 [24000/36963 (65%)]tLoss: 2.197915\n",
      "Train Epoch: 8 [28000/36963 (75%)]tLoss: 2.096374\n",
      "Train Epoch: 8 [32000/36963 (86%)]tLoss: 2.308002\n",
      "Train Epoch: 8 [36000/36963 (97%)]tLoss: 2.096221\n",
      "Train Epoch: 9 [0/36963 (0%)]tLoss: 2.205127\n",
      "Train Epoch: 9 [4000/36963 (11%)]tLoss: 2.118791\n",
      "Train Epoch: 9 [8000/36963 (22%)]tLoss: 2.069561\n",
      "Train Epoch: 9 [12000/36963 (32%)]tLoss: 2.179764\n",
      "Train Epoch: 9 [16000/36963 (43%)]tLoss: 2.163708\n",
      "Train Epoch: 9 [20000/36963 (54%)]tLoss: 2.205176\n",
      "Train Epoch: 9 [24000/36963 (65%)]tLoss: 2.171794\n",
      "Train Epoch: 9 [28000/36963 (75%)]tLoss: 2.070624\n",
      "Train Epoch: 9 [32000/36963 (86%)]tLoss: 2.280901\n",
      "Train Epoch: 9 [36000/36963 (97%)]tLoss: 2.071130\n"
     ]
    }
   ],
   "source": [
    "for epoch in range(epochs):\n",
    "    for batch_idx, (data, target) in enumerate(train_loader):\n",
    "        data, target = Variable(data), Variable(target)\n",
    "        optimizer.zero_grad()\n",
    "        net_out = net(data)\n",
    "        loss = criterion(net_out, target)\n",
    "        loss.backward()\n",
    "        optimizer.step()\n",
    "        if batch_idx % log_interval == 0:\n",
    "            print('Train Epoch: {} [{}/{} ({:.0f}%)]tLoss: {:.6f}'.format(\n",
    "                epoch, batch_idx * len(data), len(train_loader.dataset), 100.0 * batch_idx / len(train_loader), loss))"
   ],
   "metadata": {
    "collapsed": false,
    "pycharm": {
     "name": "#%%\n"
    }
   }
  },
  {
   "cell_type": "code",
   "execution_count": 8,
   "outputs": [
    {
     "name": "stderr",
     "output_type": "stream",
     "text": [
      "<ipython-input-8-e5b9c9057954>:4: UserWarning: volatile was removed and now has no effect. Use `with torch.no_grad():` instead.\n",
      "  data, target = Variable(data, volatile=True), Variable(target)\n",
      "<ipython-input-4-447865afa194>:15: UserWarning: Implicit dimension choice for log_softmax has been deprecated. Change the call to include dim=X as an argument.\n",
      "  return F.log_softmax(x)\n"
     ]
    },
    {
     "name": "stdout",
     "output_type": "stream",
     "text": [
      "nTest set: Average loss: 0.0055, Accuracy: 4474/12321 (36%)n\n"
     ]
    }
   ],
   "source": [
    "test_loss = 0\n",
    "correct = 0\n",
    "for data, target in test_loader:\n",
    "    data, target = Variable(data, volatile=True), Variable(target)\n",
    "    net_out = net(data)\n",
    "    test_loss += criterion(net_out, target)\n",
    "    pred = net_out.data.max(1)[1]\n",
    "    correct += pred.eq(target.data).sum()\n",
    "test_loss /= len(test_loader.dataset)\n",
    "print('nTest set: Average loss: {:.4f}, Accuracy: {}/{} ({:.0f}%)n'.format(\n",
    "    test_loss, correct, len(test_loader.dataset), 100. * correct / len(test_loader.dataset)))"
   ],
   "metadata": {
    "collapsed": false,
    "pycharm": {
     "name": "#%%\n"
    }
   }
  }
 ],
 "metadata": {
  "kernelspec": {
   "display_name": "Python 3",
   "language": "python",
   "name": "python3"
  },
  "language_info": {
   "codemirror_mode": {
    "name": "ipython",
    "version": 3
   },
   "file_extension": ".py",
   "mimetype": "text/x-python",
   "name": "python",
   "nbconvert_exporter": "python",
   "pygments_lexer": "ipython3",
   "version": "3.8.6"
  }
 },
 "nbformat": 4,
 "nbformat_minor": 4
}