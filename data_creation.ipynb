{
 "cells": [
  {
   "cell_type": "code",
   "execution_count": 1,
   "metadata": {},
   "outputs": [],
   "source": [
    "import numpy as np\n",
    "import os\n",
    "\n",
    "phonemes_data = []\n",
    "phonemes_label=[]\n",
    "file_names=[]\n",
    "dir = 'D:/Python/WAVE/speech_units_result/'\n",
    "k = 0\n",
    "directories = os.listdir(dir)\n",
    "for d in directories:\n",
    "    files = os.listdir(dir + d)\n",
    "    for f in files:\n",
    "        try:\n",
    "            os.chdir(dir)\n",
    "        finally:\n",
    "            pass\n",
    "        file_names.append(f[:-4] + '.png')\n",
    "        phonemes_label.append(k)\n",
    "    k += 1"
   ]
  },
  {
   "cell_type": "code",
   "execution_count": 2,
   "metadata": {
    "pycharm": {
     "name": "#%%\n"
    }
   },
   "outputs": [],
   "source": [
    "np.save('file_names', file_names)\n",
    "np.save('phonemes_label', phonemes_label)"
   ]
  }
 ],
 "metadata": {
  "kernelspec": {
   "display_name": "Python 3",
   "language": "python",
   "name": "python3"
  },
  "language_info": {
   "codemirror_mode": {
    "name": "ipython",
    "version": 3
   },
   "file_extension": ".py",
   "mimetype": "text/x-python",
   "name": "python",
   "nbconvert_exporter": "python",
   "pygments_lexer": "ipython3",
   "version": "3.8.6"
  }
 },
 "nbformat": 4,
 "nbformat_minor": 4
}