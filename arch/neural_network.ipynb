{
 "cells": [
  {
   "cell_type": "code",
   "execution_count": 67,
   "metadata": {
    "pycharm": {
     "name": "#%%\n"
    }
   },
   "outputs": [],
   "source": [
    "import numpy as np\n",
    "from sklearn.model_selection import train_test_split\n",
    "import torch\n",
    "import torch.nn as nn\n",
    "import torch.optim as optim\n",
    "import torch.utils.data as data_utils\n",
    "from torch.autograd import Variable\n",
    "import torch.nn.functional as F"
   ]
  },
  {
   "cell_type": "code",
   "execution_count": 68,
   "outputs": [],
   "source": [
    "class Net(nn.Module):\n",
    "    def __init__(self):\n",
    "        super(Net, self).__init__()\n",
    "        self.fc1 = nn.Linear(38 * 32, 1500)\n",
    "        self.fc2 = nn.Linear(1500, 1500)\n",
    "        self.fc3 = nn.Linear(1500, 46)\n",
    "\n",
    "    def forward(self, x):\n",
    "        \"\"\"x = F.relu(self.fc1(x))\n",
    "        x = F.relu(self.fc2(x))\n",
    "        x = self.fc3(x)\"\"\"\n",
    "        x = F.relu(self.fc1(x))\n",
    "        x = F.relu(self.fc2(x))\n",
    "        x = self.fc3(x)\n",
    "        return F.log_softmax(x)"
   ],
   "metadata": {
    "collapsed": false,
    "pycharm": {
     "name": "#%%\n"
    }
   }
  },
  {
   "cell_type": "code",
   "execution_count": 69,
   "outputs": [
    {
     "name": "stdout",
     "output_type": "stream",
     "text": [
      "[ 0  0  0 ... 45 45 45]\n"
     ]
    }
   ],
   "source": [
    "# class_names = ['A', 'A0', 'B', 'B0', 'D', 'D0', 'DZ', 'DZ0', 'DZH', 'DZH0', 'E0', 'F', 'F0', 'G']\n",
    "\n",
    "class_names = ['A', 'A0', 'B', 'B0', 'D', 'D0', 'DZ', 'DZ0', 'DZH', 'DZH0', 'E0', 'F', 'F0', 'G', 'G0', 'GH', 'I', 'I0',\n",
    "               'J0', 'K', 'K0', 'KH', 'KH0', 'L', 'L0', 'M', 'M0', 'N', 'N0', 'O', 'O0', 'P', 'P0', 'R', 'R0', 'S',\n",
    "               'S0', 'SH', 'SH0', 'T', 'T0', 'TS', 'TS0', 'TSH', 'TSH0', 'U', 'U0', 'V', 'V0', 'Y', 'Y0', 'Z', 'Z0',\n",
    "               'ZH', 'ZH0']\n",
    "phonemes_label = np.load(\"phonemes_label.npy\")\n",
    "phonemes_data = np.load(\"phonemes_data.npy\")\n",
    "print(phonemes_label)\n",
    "phonemes_data = np.nan_to_num(phonemes_data)\n",
    "X_train, X_test, y_train, y_test = train_test_split(phonemes_data, phonemes_label, test_size=0.30, shuffle=True)\n",
    "X_train_torch = torch.from_numpy(X_train).float()\n",
    "X_test_torch = torch.from_numpy(X_test).float()\n",
    "y_train_torch = torch.from_numpy(y_train).long()\n",
    "y_test_torch = torch.from_numpy(y_test).long()\n",
    "train = data_utils.TensorDataset(X_train_torch, y_train_torch)\n",
    "test = data_utils.TensorDataset(X_test_torch, y_test_torch)\n",
    "train_loader = data_utils.DataLoader(train, batch_size=400)\n",
    "test_loader = data_utils.DataLoader(test, batch_size=400)"
   ],
   "metadata": {
    "collapsed": false,
    "pycharm": {
     "name": "#%%\n"
    }
   }
  },
  {
   "cell_type": "code",
   "execution_count": 70,
   "outputs": [],
   "source": [
    "batch_size = 400\n",
    "learning_rate = 0.01\n",
    "epochs = 10\n",
    "log_interval = 10\n",
    "net = Net()\n",
    "optimizer = optim.SGD(net.parameters(), lr=learning_rate, momentum=0.9)\n",
    "criterion = nn.NLLLoss()"
   ],
   "metadata": {
    "collapsed": false,
    "pycharm": {
     "name": "#%%\n"
    }
   }
  },
  {
   "cell_type": "code",
   "execution_count": 71,
   "outputs": [
    {
     "name": "stderr",
     "output_type": "stream",
     "text": [
      "<ipython-input-68-56ab4d2be12f>:15: UserWarning: Implicit dimension choice for log_softmax has been deprecated. Change the call to include dim=X as an argument.\n",
      "  return F.log_softmax(x)\n"
     ]
    },
    {
     "name": "stdout",
     "output_type": "stream",
     "text": [
      "Train Epoch: 0 [0/39004 (0%)]tLoss: 3.841786\n",
      "Train Epoch: 0 [4000/39004 (10%)]tLoss: 3.683830\n",
      "Train Epoch: 0 [8000/39004 (20%)]tLoss: 3.538823\n",
      "Train Epoch: 0 [12000/39004 (31%)]tLoss: 3.455101\n",
      "Train Epoch: 0 [16000/39004 (41%)]tLoss: 3.427000\n",
      "Train Epoch: 0 [20000/39004 (51%)]tLoss: 3.345180\n",
      "Train Epoch: 0 [24000/39004 (61%)]tLoss: 3.325443\n",
      "Train Epoch: 0 [28000/39004 (71%)]tLoss: 3.319292\n",
      "Train Epoch: 0 [32000/39004 (82%)]tLoss: 3.366889\n",
      "Train Epoch: 0 [36000/39004 (92%)]tLoss: 3.342217\n",
      "Train Epoch: 1 [0/39004 (0%)]tLoss: 3.407321\n",
      "Train Epoch: 1 [4000/39004 (10%)]tLoss: 3.320081\n",
      "Train Epoch: 1 [8000/39004 (20%)]tLoss: 3.348164\n",
      "Train Epoch: 1 [12000/39004 (31%)]tLoss: 3.306574\n",
      "Train Epoch: 1 [16000/39004 (41%)]tLoss: 3.331773\n",
      "Train Epoch: 1 [20000/39004 (51%)]tLoss: 3.234870\n",
      "Train Epoch: 1 [24000/39004 (61%)]tLoss: 3.262233\n",
      "Train Epoch: 1 [28000/39004 (71%)]tLoss: 3.217369\n",
      "Train Epoch: 1 [32000/39004 (82%)]tLoss: 3.303735\n",
      "Train Epoch: 1 [36000/39004 (92%)]tLoss: 3.263358\n",
      "Train Epoch: 2 [0/39004 (0%)]tLoss: 3.319907\n",
      "Train Epoch: 2 [4000/39004 (10%)]tLoss: 3.247603\n",
      "Train Epoch: 2 [8000/39004 (20%)]tLoss: 3.284649\n",
      "Train Epoch: 2 [12000/39004 (31%)]tLoss: 3.217236\n",
      "Train Epoch: 2 [16000/39004 (41%)]tLoss: 3.266172\n",
      "Train Epoch: 2 [20000/39004 (51%)]tLoss: 3.159788\n",
      "Train Epoch: 2 [24000/39004 (61%)]tLoss: 3.209477\n",
      "Train Epoch: 2 [28000/39004 (71%)]tLoss: 3.141721\n",
      "Train Epoch: 2 [32000/39004 (82%)]tLoss: 3.245046\n",
      "Train Epoch: 2 [36000/39004 (92%)]tLoss: 3.203679\n",
      "Train Epoch: 3 [0/39004 (0%)]tLoss: 3.249167\n",
      "Train Epoch: 3 [4000/39004 (10%)]tLoss: 3.189120\n",
      "Train Epoch: 3 [8000/39004 (20%)]tLoss: 3.228529\n",
      "Train Epoch: 3 [12000/39004 (31%)]tLoss: 3.156448\n",
      "Train Epoch: 3 [16000/39004 (41%)]tLoss: 3.210062\n",
      "Train Epoch: 3 [20000/39004 (51%)]tLoss: 3.101299\n",
      "Train Epoch: 3 [24000/39004 (61%)]tLoss: 3.149580\n",
      "Train Epoch: 3 [28000/39004 (71%)]tLoss: 3.083075\n",
      "Train Epoch: 3 [32000/39004 (82%)]tLoss: 3.190906\n",
      "Train Epoch: 3 [36000/39004 (92%)]tLoss: 3.157253\n",
      "Train Epoch: 4 [0/39004 (0%)]tLoss: 3.196155\n",
      "Train Epoch: 4 [4000/39004 (10%)]tLoss: 3.134938\n",
      "Train Epoch: 4 [8000/39004 (20%)]tLoss: 3.176147\n",
      "Train Epoch: 4 [12000/39004 (31%)]tLoss: 3.101646\n",
      "Train Epoch: 4 [16000/39004 (41%)]tLoss: 3.163942\n",
      "Train Epoch: 4 [20000/39004 (51%)]tLoss: 3.054986\n",
      "Train Epoch: 4 [24000/39004 (61%)]tLoss: 3.091483\n",
      "Train Epoch: 4 [28000/39004 (71%)]tLoss: 3.034793\n",
      "Train Epoch: 4 [32000/39004 (82%)]tLoss: 3.147929\n",
      "Train Epoch: 4 [36000/39004 (92%)]tLoss: 3.127033\n",
      "Train Epoch: 5 [0/39004 (0%)]tLoss: 3.153808\n",
      "Train Epoch: 5 [4000/39004 (10%)]tLoss: 3.091539\n",
      "Train Epoch: 5 [8000/39004 (20%)]tLoss: 3.135107\n",
      "Train Epoch: 5 [12000/39004 (31%)]tLoss: 3.059172\n",
      "Train Epoch: 5 [16000/39004 (41%)]tLoss: 3.125928\n",
      "Train Epoch: 5 [20000/39004 (51%)]tLoss: 3.011738\n",
      "Train Epoch: 5 [24000/39004 (61%)]tLoss: 3.043489\n",
      "Train Epoch: 5 [28000/39004 (71%)]tLoss: 2.988897\n",
      "Train Epoch: 5 [32000/39004 (82%)]tLoss: 3.105852\n",
      "Train Epoch: 5 [36000/39004 (92%)]tLoss: 3.096896\n",
      "Train Epoch: 6 [0/39004 (0%)]tLoss: 3.120822\n",
      "Train Epoch: 6 [4000/39004 (10%)]tLoss: 3.057413\n",
      "Train Epoch: 6 [8000/39004 (20%)]tLoss: 3.101609\n",
      "Train Epoch: 6 [12000/39004 (31%)]tLoss: 3.024527\n",
      "Train Epoch: 6 [16000/39004 (41%)]tLoss: 3.097870\n",
      "Train Epoch: 6 [20000/39004 (51%)]tLoss: 2.973332\n",
      "Train Epoch: 6 [24000/39004 (61%)]tLoss: 3.002551\n",
      "Train Epoch: 6 [28000/39004 (71%)]tLoss: 2.949292\n",
      "Train Epoch: 6 [32000/39004 (82%)]tLoss: 3.068516\n",
      "Train Epoch: 6 [36000/39004 (92%)]tLoss: 3.062542\n",
      "Train Epoch: 7 [0/39004 (0%)]tLoss: 3.094690\n",
      "Train Epoch: 7 [4000/39004 (10%)]tLoss: 3.026807\n",
      "Train Epoch: 7 [8000/39004 (20%)]tLoss: 3.071728\n",
      "Train Epoch: 7 [12000/39004 (31%)]tLoss: 2.992589\n",
      "Train Epoch: 7 [16000/39004 (41%)]tLoss: 3.074241\n",
      "Train Epoch: 7 [20000/39004 (51%)]tLoss: 2.939768\n",
      "Train Epoch: 7 [24000/39004 (61%)]tLoss: 2.966699\n",
      "Train Epoch: 7 [28000/39004 (71%)]tLoss: 2.913003\n",
      "Train Epoch: 7 [32000/39004 (82%)]tLoss: 3.036544\n",
      "Train Epoch: 7 [36000/39004 (92%)]tLoss: 3.029044\n",
      "Train Epoch: 8 [0/39004 (0%)]tLoss: 3.069288\n",
      "Train Epoch: 8 [4000/39004 (10%)]tLoss: 2.995944\n",
      "Train Epoch: 8 [8000/39004 (20%)]tLoss: 3.042578\n",
      "Train Epoch: 8 [12000/39004 (31%)]tLoss: 2.958910\n",
      "Train Epoch: 8 [16000/39004 (41%)]tLoss: 3.051953\n",
      "Train Epoch: 8 [20000/39004 (51%)]tLoss: 2.907254\n",
      "Train Epoch: 8 [24000/39004 (61%)]tLoss: 2.932916\n",
      "Train Epoch: 8 [28000/39004 (71%)]tLoss: 2.877529\n",
      "Train Epoch: 8 [32000/39004 (82%)]tLoss: 3.008890\n",
      "Train Epoch: 8 [36000/39004 (92%)]tLoss: 2.998789\n",
      "Train Epoch: 9 [0/39004 (0%)]tLoss: 3.044872\n",
      "Train Epoch: 9 [4000/39004 (10%)]tLoss: 2.963119\n",
      "Train Epoch: 9 [8000/39004 (20%)]tLoss: 3.012589\n",
      "Train Epoch: 9 [12000/39004 (31%)]tLoss: 2.924347\n",
      "Train Epoch: 9 [16000/39004 (41%)]tLoss: 3.029122\n",
      "Train Epoch: 9 [20000/39004 (51%)]tLoss: 2.875665\n",
      "Train Epoch: 9 [24000/39004 (61%)]tLoss: 2.899873\n",
      "Train Epoch: 9 [28000/39004 (71%)]tLoss: 2.841066\n",
      "Train Epoch: 9 [32000/39004 (82%)]tLoss: 2.980301\n",
      "Train Epoch: 9 [36000/39004 (92%)]tLoss: 2.960761\n"
     ]
    }
   ],
   "source": [
    "for epoch in range(epochs):\n",
    "    for batch_idx, (data, target) in enumerate(train_loader):\n",
    "        data, target = Variable(data), Variable(target)\n",
    "        optimizer.zero_grad()\n",
    "        net_out = net(data)\n",
    "        loss = criterion(net_out, target)\n",
    "        loss.backward()\n",
    "        optimizer.step()\n",
    "        if batch_idx % log_interval == 0:\n",
    "            print('Train Epoch: {} [{}/{} ({:.0f}%)]tLoss: {:.6f}'.format(\n",
    "                epoch, batch_idx * len(data), len(train_loader.dataset), 100.0 * batch_idx / len(train_loader), loss))"
   ],
   "metadata": {
    "collapsed": false,
    "pycharm": {
     "name": "#%%\n"
    }
   }
  },
  {
   "cell_type": "code",
   "execution_count": 72,
   "outputs": [
    {
     "name": "stderr",
     "output_type": "stream",
     "text": [
      "<ipython-input-72-e5b9c9057954>:4: UserWarning: volatile was removed and now has no effect. Use `with torch.no_grad():` instead.\n",
      "  data, target = Variable(data, volatile=True), Variable(target)\n",
      "<ipython-input-68-56ab4d2be12f>:15: UserWarning: Implicit dimension choice for log_softmax has been deprecated. Change the call to include dim=X as an argument.\n",
      "  return F.log_softmax(x)\n"
     ]
    },
    {
     "name": "stdout",
     "output_type": "stream",
     "text": [
      "nTest set: Average loss: 0.0077, Accuracy: 3449/16716 (21%)n\n"
     ]
    }
   ],
   "source": [
    "test_loss = 0\n",
    "correct = 0\n",
    "for data, target in test_loader:\n",
    "    data, target = Variable(data, volatile=True), Variable(target)\n",
    "    net_out = net(data)\n",
    "    test_loss += criterion(net_out, target)\n",
    "    pred = net_out.data.max(1)[1]\n",
    "    correct += pred.eq(target.data).sum()\n",
    "test_loss /= len(test_loader.dataset)\n",
    "print('nTest set: Average loss: {:.4f}, Accuracy: {}/{} ({:.0f}%)n'.format(\n",
    "    test_loss, correct, len(test_loader.dataset), 100. * correct / len(test_loader.dataset)))"
   ],
   "metadata": {
    "collapsed": false,
    "pycharm": {
     "name": "#%%\n"
    }
   }
  }
 ],
 "metadata": {
  "kernelspec": {
   "display_name": "Python 3",
   "language": "python",
   "name": "python3"
  },
  "language_info": {
   "codemirror_mode": {
    "name": "ipython",
    "version": 3
   },
   "file_extension": ".py",
   "mimetype": "text/x-python",
   "name": "python",
   "nbconvert_exporter": "python",
   "pygments_lexer": "ipython3",
   "version": "3.8.6"
  }
 },
 "nbformat": 4,
 "nbformat_minor": 4
}